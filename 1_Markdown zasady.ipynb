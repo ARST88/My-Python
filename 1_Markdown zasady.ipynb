{
 "cells": [
  {
   "cell_type": "markdown",
   "id": "e1897852",
   "metadata": {},
   "source": [
    "# Nagłowek 1\n",
    "## H2\n",
    "\n",
    "zwykly tekstsdkndsfhksd komentarza\n",
    "- sdf\n",
    "- sdf\n",
    "- df\n",
    "\n",
    "1. ddd\n",
    "2. ssf\n",
    "3. sff\n",
    "\n",
    "*opensoruce*\n",
    "\n",
    "**blabla**\n",
    "_saf_\n",
    "__dfdgdg__\n",
    "\n",
    "[link](https://wp.pl)\n",
    "\n",
    "dodanie obrazka lokalnie\n",
    "![Logo Pandas](./)\n",
    "\n",
    "![Logo Pandas](http://numpy.org/images/logo.svg)\n",
    "\n",
    "wpisywanie kodu:\n",
    "\n",
    "    for i in range(10):\n",
    "        print(i)\n",
    "        \n",
    "        \n",
    "gwiazdka nie ma powodowac wyroznienia\n",
    "\n",
    "2\\*2\\*2"
   ]
  },
  {
   "cell_type": "markdown",
   "id": "3eab2217",
   "metadata": {},
   "source": [
    "jezyk latech - wzory matematyczne ?? znaki dolarowe $$ wzór matematyczny $$"
   ]
  },
  {
   "cell_type": "code",
   "execution_count": null,
   "id": "c0b89a2c",
   "metadata": {},
   "outputs": [],
   "source": []
  }
 ],
 "metadata": {
  "kernelspec": {
   "display_name": "Python 3 (ipykernel)",
   "language": "python",
   "name": "python3"
  },
  "language_info": {
   "codemirror_mode": {
    "name": "ipython",
    "version": 3
   },
   "file_extension": ".py",
   "mimetype": "text/x-python",
   "name": "python",
   "nbconvert_exporter": "python",
   "pygments_lexer": "ipython3",
   "version": "3.8.12"
  }
 },
 "nbformat": 4,
 "nbformat_minor": 5
}
